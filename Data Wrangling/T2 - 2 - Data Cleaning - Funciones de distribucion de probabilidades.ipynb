{
 "cells": [
  {
   "cell_type": "markdown",
   "metadata": {},
   "source": [
    "# Funciones de distribucion de probabilidades\n",
    "\n",
    "* Crear datos de distribucion uniforme\n",
    "    > `data = np.random.uniform(a, b, n)`\n",
    "* Crear datos de distribucion normal\n",
    "    > `data = np.random.randn(n)`\n",
    "* Crear grafico de campana de gaus de forma lineal\n",
    "    > `plt.plot(x, sorted(data))`\n"
   ]
  },
  {
   "cell_type": "markdown",
   "metadata": {},
   "source": [
    "## Distribucion Uniforme"
   ]
  },
  {
   "cell_type": "code",
   "execution_count": 94,
   "metadata": {},
   "outputs": [],
   "source": [
    "import numpy as np\n",
    "import matplotlib.pyplot as plt\n",
    "import pandas as pd"
   ]
  },
  {
   "cell_type": "code",
   "execution_count": 18,
   "metadata": {},
   "outputs": [],
   "source": [
    "a = 1\n",
    "b = 100\n",
    "n = 10000\n",
    "\n",
    "'''Creamos datos para una distribucion uniforme. Vemos en el grafico que \n",
    "cuantos mas datos tenemos mas se asemeja el grafrico a un rectangulo '''\n",
    "\n",
    "data = np.random.uniform(a, b, n)"
   ]
  },
  {
   "cell_type": "code",
   "execution_count": 25,
   "metadata": {},
   "outputs": [
    {
     "data": {
      "text/plain": [
       "(array([ 983., 1046.,  977., 1007.,  995.,  992.,  987.,  986., 1021.,\n",
       "        1006.]),\n",
       " array([ 1.00966424, 10.9083967 , 20.80712916, 30.70586162, 40.60459408,\n",
       "        50.50332654, 60.402059  , 70.30079146, 80.19952392, 90.09825638,\n",
       "        99.99698885]),\n",
       " <a list of 10 Patch objects>)"
      ]
     },
     "execution_count": 25,
     "metadata": {},
     "output_type": "execute_result"
    },
    {
     "data": {
      "image/png": "[encoded data removed]",
      "text/plain": [
       "<Figure size 432x288 with 1 Axes>"
      ]
     },
     "metadata": {},
     "output_type": "display_data"
    }
   ],
   "source": [
    "%matplotlib inline\n",
    "\n",
    "plt.hist(data)"
   ]
  },
  {
   "cell_type": "markdown",
   "metadata": {},
   "source": [
    "## Distribucion normal"
   ]
  },
  {
   "cell_type": "code",
   "execution_count": 39,
   "metadata": {},
   "outputs": [],
   "source": [
    "data = np.random.randn(1000000)"
   ]
  },
  {
   "cell_type": "code",
   "execution_count": 41,
   "metadata": {},
   "outputs": [
    {
     "data": {
      "text/plain": [
       "[<matplotlib.lines.Line2D at 0x254f87a53c8>]"
      ]
     },
     "execution_count": 41,
     "metadata": {},
     "output_type": "execute_result"
    },
    {
     "data": {
      "image/png": "[encoded data removed]",
      "text/plain": [
       "<Figure size 432x288 with 1 Axes>"
      ]
     },
     "metadata": {},
     "output_type": "display_data"
    }
   ],
   "source": [
    "x = range(1,1000001)\n",
    "plt.plot(x, data)"
   ]
  },
  {
   "cell_type": "code",
   "execution_count": 48,
   "metadata": {},
   "outputs": [
    {
     "data": {
      "text/plain": [
       "(array([1.000e+00, 0.000e+00, 0.000e+00, 0.000e+00, 0.000e+00, 0.000e+00,\n",
       "        0.000e+00, 0.000e+00, 0.000e+00, 0.000e+00, 0.000e+00, 0.000e+00,\n",
       "        0.000e+00, 0.000e+00, 0.000e+00, 0.000e+00, 0.000e+00, 1.000e+00,\n",
       "        0.000e+00, 0.000e+00, 0.000e+00, 0.000e+00, 0.000e+00, 0.000e+00,\n",
       "        1.000e+00, 1.000e+00, 1.000e+00, 0.000e+00, 0.000e+00, 0.000e+00,\n",
       "        0.000e+00, 0.000e+00, 1.000e+00, 1.000e+00, 0.000e+00, 0.000e+00,\n",
       "        1.000e+00, 0.000e+00, 0.000e+00, 0.000e+00, 0.000e+00, 0.000e+00,\n",
       "        0.000e+00, 1.000e+00, 0.000e+00, 0.000e+00, 1.000e+00, 0.000e+00,\n",
       "        2.000e+00, 1.000e+00, 0.000e+00, 0.000e+00, 2.000e+00, 0.000e+00,\n",
       "        1.000e+00, 1.000e+00, 1.000e+00, 0.000e+00, 0.000e+00, 1.000e+00,\n",
       "        0.000e+00, 3.000e+00, 0.000e+00, 0.000e+00, 2.000e+00, 3.000e+00,\n",
       "        1.000e+00, 0.000e+00, 1.000e+00, 1.000e+00, 3.000e+00, 2.000e+00,\n",
       "        1.000e+00, 3.000e+00, 1.000e+00, 0.000e+00, 3.000e+00, 3.000e+00,\n",
       "        2.000e+00, 2.000e+00, 3.000e+00, 2.000e+00, 2.000e+00, 4.000e+00,\n",
       "        3.000e+00, 2.000e+00, 1.000e+00, 5.000e+00, 3.000e+00, 3.000e+00,\n",
       "        4.000e+00, 3.000e+00, 6.000e+00, 3.000e+00, 3.000e+00, 7.000e+00,\n",
       "        7.000e+00, 1.000e+00, 2.000e+00, 4.000e+00, 5.000e+00, 8.000e+00,\n",
       "        5.000e+00, 4.000e+00, 5.000e+00, 6.000e+00, 9.000e+00, 4.000e+00,\n",
       "        1.000e+01, 4.000e+00, 5.000e+00, 6.000e+00, 9.000e+00, 1.000e+01,\n",
       "        5.000e+00, 6.000e+00, 7.000e+00, 8.000e+00, 8.000e+00, 1.200e+01,\n",
       "        1.100e+01, 6.000e+00, 1.300e+01, 9.000e+00, 1.100e+01, 8.000e+00,\n",
       "        1.400e+01, 1.300e+01, 1.200e+01, 1.800e+01, 1.000e+01, 1.000e+01,\n",
       "        9.000e+00, 1.800e+01, 7.000e+00, 1.500e+01, 1.600e+01, 1.000e+01,\n",
       "        9.000e+00, 1.400e+01, 2.300e+01, 2.100e+01, 2.500e+01, 2.500e+01,\n",
       "        2.400e+01, 1.300e+01, 2.400e+01, 1.600e+01, 1.400e+01, 1.700e+01,\n",
       "        2.600e+01, 2.500e+01, 3.200e+01, 2.200e+01, 2.400e+01, 4.300e+01,\n",
       "        1.900e+01, 4.100e+01, 2.600e+01, 2.400e+01, 3.100e+01, 3.300e+01,\n",
       "        4.200e+01, 4.200e+01, 3.600e+01, 4.800e+01, 4.100e+01, 4.200e+01,\n",
       "        5.000e+01, 5.800e+01, 4.500e+01, 3.500e+01, 5.400e+01, 5.000e+01,\n",
       "        4.600e+01, 4.600e+01, 5.400e+01, 6.800e+01, 6.900e+01, 6.200e+01,\n",
       "        4.800e+01, 6.100e+01, 5.000e+01, 7.500e+01, 7.500e+01, 5.600e+01,\n",
       "        6.500e+01, 7.100e+01, 7.200e+01, 8.700e+01, 8.400e+01, 8.700e+01,\n",
       "        8.900e+01, 9.400e+01, 9.300e+01, 7.600e+01, 1.120e+02, 1.000e+02,\n",
       "        1.010e+02, 1.040e+02, 1.100e+02, 1.070e+02, 1.240e+02, 1.240e+02,\n",
       "        1.150e+02, 1.280e+02, 1.260e+02, 1.260e+02, 1.580e+02, 1.190e+02,\n",
       "        1.360e+02, 1.370e+02, 1.460e+02, 1.620e+02, 1.590e+02, 1.710e+02,\n",
       "        1.530e+02, 1.810e+02, 1.550e+02, 1.700e+02, 1.780e+02, 1.960e+02,\n",
       "        1.950e+02, 1.780e+02, 1.900e+02, 2.180e+02, 2.130e+02, 2.210e+02,\n",
       "        2.270e+02, 2.280e+02, 2.190e+02, 2.530e+02, 2.430e+02, 2.320e+02,\n",
       "        2.770e+02, 2.450e+02, 2.790e+02, 2.630e+02, 2.780e+02, 2.810e+02,\n",
       "        2.730e+02, 2.840e+02, 3.020e+02, 3.200e+02, 3.430e+02, 3.060e+02,\n",
       "        3.360e+02, 3.680e+02, 3.570e+02, 3.370e+02, 3.620e+02, 3.460e+02,\n",
       "        3.780e+02, 3.650e+02, 4.130e+02, 3.770e+02, 4.070e+02, 3.990e+02,\n",
       "        4.310e+02, 4.220e+02, 4.650e+02, 4.400e+02, 4.360e+02, 4.630e+02,\n",
       "        4.950e+02, 4.850e+02, 5.290e+02, 5.000e+02, 5.370e+02, 5.370e+02,\n",
       "        5.630e+02, 6.040e+02, 6.020e+02, 5.780e+02, 5.790e+02, 6.460e+02,\n",
       "        5.840e+02, 6.660e+02, 6.150e+02, 6.340e+02, 6.590e+02, 7.010e+02,\n",
       "        6.930e+02, 7.230e+02, 7.500e+02, 7.080e+02, 7.810e+02, 7.390e+02,\n",
       "        8.170e+02, 7.310e+02, 8.080e+02, 7.870e+02, 8.380e+02, 8.710e+02,\n",
       "        8.620e+02, 8.280e+02, 8.880e+02, 9.080e+02, 8.810e+02, 8.770e+02,\n",
       "        9.220e+02, 9.100e+02, 9.870e+02, 1.032e+03, 1.066e+03, 1.056e+03,\n",
       "        1.042e+03, 1.050e+03, 1.082e+03, 1.114e+03, 1.164e+03, 1.182e+03,\n",
       "        1.132e+03, 1.194e+03, 1.138e+03, 1.252e+03, 1.269e+03, 1.251e+03,\n",
       "        1.254e+03, 1.314e+03, 1.299e+03, 1.328e+03, 1.391e+03, 1.432e+03,\n",
       "        1.416e+03, 1.385e+03, 1.496e+03, 1.449e+03, 1.471e+03, 1.461e+03,\n",
       "        1.565e+03, 1.446e+03, 1.571e+03, 1.522e+03, 1.605e+03, 1.595e+03,\n",
       "        1.595e+03, 1.674e+03, 1.718e+03, 1.702e+03, 1.775e+03, 1.761e+03,\n",
       "        1.789e+03, 1.797e+03, 1.790e+03, 1.842e+03, 1.862e+03, 1.991e+03,\n",
       "        1.911e+03, 1.939e+03, 2.013e+03, 1.982e+03, 1.935e+03, 1.977e+03,\n",
       "        2.129e+03, 2.097e+03, 2.112e+03, 2.125e+03, 2.176e+03, 2.203e+03,\n",
       "        2.210e+03, 2.172e+03, 2.190e+03, 2.306e+03, 2.287e+03, 2.295e+03,\n",
       "        2.499e+03, 2.320e+03, 2.365e+03, 2.424e+03, 2.432e+03, 2.466e+03,\n",
       "        2.484e+03, 2.598e+03, 2.599e+03, 2.555e+03, 2.627e+03, 2.735e+03,\n",
       "        2.639e+03, 2.669e+03, 2.739e+03, 2.689e+03, 2.748e+03, 2.823e+03,\n",
       "        2.697e+03, 2.690e+03, 2.769e+03, 2.807e+03, 2.897e+03, 2.809e+03,\n",
       "        2.932e+03, 2.932e+03, 2.886e+03, 2.910e+03, 2.997e+03, 3.036e+03,\n",
       "        3.084e+03, 3.003e+03, 3.086e+03, 3.138e+03, 3.214e+03, 3.201e+03,\n",
       "        3.218e+03, 3.224e+03, 3.276e+03, 3.309e+03, 3.316e+03, 3.356e+03,\n",
       "        3.334e+03, 3.402e+03, 3.360e+03, 3.333e+03, 3.438e+03, 3.385e+03,\n",
       "        3.457e+03, 3.409e+03, 3.416e+03, 3.473e+03, 3.475e+03, 3.560e+03,\n",
       "        3.584e+03, 3.529e+03, 3.641e+03, 3.571e+03, 3.647e+03, 3.604e+03,\n",
       "        3.604e+03, 3.599e+03, 3.784e+03, 3.607e+03, 3.758e+03, 3.696e+03,\n",
       "        3.687e+03, 3.757e+03, 3.695e+03, 3.691e+03, 3.817e+03, 3.747e+03,\n",
       "        4.015e+03, 3.835e+03, 3.766e+03, 3.880e+03, 3.846e+03, 3.878e+03,\n",
       "        3.870e+03, 3.937e+03, 3.911e+03, 3.905e+03, 3.751e+03, 3.893e+03,\n",
       "        3.877e+03, 3.993e+03, 3.961e+03, 4.114e+03, 3.984e+03, 3.870e+03,\n",
       "        4.000e+03, 4.011e+03, 3.833e+03, 4.000e+03, 3.887e+03, 3.992e+03,\n",
       "        4.017e+03, 4.016e+03, 4.022e+03, 3.852e+03, 3.992e+03, 3.960e+03,\n",
       "        4.007e+03, 4.047e+03, 3.811e+03, 3.989e+03, 3.996e+03, 4.045e+03,\n",
       "        4.035e+03, 4.006e+03, 3.938e+03, 3.925e+03, 3.956e+03, 3.920e+03,\n",
       "        3.991e+03, 3.971e+03, 3.934e+03, 3.894e+03, 3.902e+03, 3.928e+03,\n",
       "        3.996e+03, 3.904e+03, 3.879e+03, 4.002e+03, 3.944e+03, 3.815e+03,\n",
       "        3.856e+03, 3.877e+03, 3.949e+03, 3.850e+03, 3.777e+03, 3.814e+03,\n",
       "        3.819e+03, 3.851e+03, 3.708e+03, 3.781e+03, 3.730e+03, 3.724e+03,\n",
       "        3.827e+03, 3.697e+03, 3.662e+03, 3.707e+03, 3.845e+03, 3.694e+03,\n",
       "        3.779e+03, 3.627e+03, 3.561e+03, 3.604e+03, 3.592e+03, 3.620e+03,\n",
       "        3.520e+03, 3.496e+03, 3.518e+03, 3.448e+03, 3.494e+03, 3.483e+03,\n",
       "        3.442e+03, 3.394e+03, 3.321e+03, 3.380e+03, 3.462e+03, 3.341e+03,\n",
       "        3.320e+03, 3.215e+03, 3.268e+03, 3.366e+03, 3.304e+03, 3.300e+03,\n",
       "        3.281e+03, 3.215e+03, 3.165e+03, 3.104e+03, 3.106e+03, 3.153e+03,\n",
       "        3.103e+03, 3.129e+03, 3.104e+03, 3.055e+03, 3.099e+03, 2.981e+03,\n",
       "        2.958e+03, 2.972e+03, 2.876e+03, 2.920e+03, 2.877e+03, 2.859e+03,\n",
       "        2.796e+03, 2.807e+03, 2.713e+03, 2.645e+03, 2.791e+03, 2.688e+03,\n",
       "        2.660e+03, 2.620e+03, 2.669e+03, 2.564e+03, 2.643e+03, 2.589e+03,\n",
       "        2.506e+03, 2.600e+03, 2.550e+03, 2.454e+03, 2.537e+03, 2.441e+03,\n",
       "        2.372e+03, 2.408e+03, 2.358e+03, 2.381e+03, 2.334e+03, 2.277e+03,\n",
       "        2.240e+03, 2.273e+03, 2.176e+03, 2.210e+03, 2.110e+03, 2.119e+03,\n",
       "        2.108e+03, 2.134e+03, 2.143e+03, 1.954e+03, 2.052e+03, 2.040e+03,\n",
       "        1.968e+03, 1.967e+03, 1.908e+03, 1.907e+03, 1.870e+03, 1.853e+03,\n",
       "        1.762e+03, 1.758e+03, 1.825e+03, 1.835e+03, 1.738e+03, 1.676e+03,\n",
       "        1.726e+03, 1.620e+03, 1.687e+03, 1.600e+03, 1.538e+03, 1.522e+03,\n",
       "        1.472e+03, 1.493e+03, 1.547e+03, 1.598e+03, 1.465e+03, 1.394e+03,\n",
       "        1.461e+03, 1.432e+03, 1.397e+03, 1.352e+03, 1.341e+03, 1.338e+03,\n",
       "        1.291e+03, 1.383e+03, 1.245e+03, 1.246e+03, 1.238e+03, 1.233e+03,\n",
       "        1.207e+03, 1.171e+03, 1.207e+03, 1.139e+03, 1.115e+03, 1.075e+03,\n",
       "        1.104e+03, 1.053e+03, 1.036e+03, 1.077e+03, 1.046e+03, 1.022e+03,\n",
       "        1.018e+03, 9.240e+02, 9.380e+02, 8.610e+02, 9.390e+02, 9.160e+02,\n",
       "        8.860e+02, 8.890e+02, 8.460e+02, 8.190e+02, 8.630e+02, 8.190e+02,\n",
       "        8.230e+02, 7.880e+02, 7.520e+02, 7.810e+02, 7.450e+02, 6.980e+02,\n",
       "        6.890e+02, 7.690e+02, 6.600e+02, 7.000e+02, 6.860e+02, 6.820e+02,\n",
       "        6.520e+02, 6.640e+02, 6.340e+02, 6.470e+02, 5.790e+02, 5.660e+02,\n",
       "        5.730e+02, 5.300e+02, 5.220e+02, 5.520e+02, 5.070e+02, 5.390e+02,\n",
       "        5.000e+02, 5.220e+02, 4.980e+02, 4.630e+02, 4.690e+02, 4.610e+02,\n",
       "        4.540e+02, 4.410e+02, 4.400e+02, 4.340e+02, 4.100e+02, 4.350e+02,\n",
       "        3.760e+02, 3.960e+02, 3.910e+02, 3.580e+02, 3.550e+02, 3.590e+02,\n",
       "        3.690e+02, 3.470e+02, 3.430e+02, 3.240e+02, 2.950e+02, 3.100e+02,\n",
       "        3.070e+02, 2.810e+02, 3.240e+02, 3.030e+02, 3.050e+02, 2.510e+02,\n",
       "        2.670e+02, 2.620e+02, 2.260e+02, 2.530e+02, 2.260e+02, 2.670e+02,\n",
       "        2.360e+02, 2.330e+02, 2.050e+02, 2.260e+02, 2.050e+02, 2.080e+02,\n",
       "        2.350e+02, 2.060e+02, 1.910e+02, 1.930e+02, 1.910e+02, 1.730e+02,\n",
       "        1.750e+02, 1.570e+02, 1.570e+02, 1.570e+02, 1.480e+02, 1.580e+02,\n",
       "        1.390e+02, 1.380e+02, 1.450e+02, 1.450e+02, 1.400e+02, 1.470e+02,\n",
       "        1.130e+02, 1.310e+02, 1.120e+02, 1.120e+02, 1.010e+02, 9.600e+01,\n",
       "        9.700e+01, 1.170e+02, 1.070e+02, 1.010e+02, 8.500e+01, 8.600e+01,\n",
       "        8.700e+01, 8.600e+01, 7.800e+01, 9.300e+01, 7.900e+01, 7.800e+01,\n",
       "        7.400e+01, 8.100e+01, 8.100e+01, 7.000e+01, 6.100e+01, 8.000e+01,\n",
       "        5.800e+01, 6.500e+01, 6.700e+01, 5.900e+01, 6.000e+01, 6.500e+01,\n",
       "        6.200e+01, 4.400e+01, 4.900e+01, 4.200e+01, 5.100e+01, 3.700e+01,\n",
       "        4.700e+01, 3.500e+01, 4.700e+01, 4.200e+01, 4.200e+01, 4.300e+01,\n",
       "        3.700e+01, 3.700e+01, 4.500e+01, 3.400e+01, 3.100e+01, 3.000e+01,\n",
       "        2.800e+01, 2.800e+01, 2.400e+01, 2.800e+01, 2.700e+01, 2.100e+01,\n",
       "        3.000e+01, 2.900e+01, 2.700e+01, 3.700e+01, 2.800e+01, 2.700e+01,\n",
       "        2.100e+01, 1.700e+01, 2.400e+01, 1.300e+01, 1.900e+01, 2.500e+01,\n",
       "        1.800e+01, 1.500e+01, 1.700e+01, 2.000e+01, 2.100e+01, 1.300e+01,\n",
       "        1.700e+01, 1.600e+01, 1.200e+01, 1.400e+01, 1.400e+01, 1.000e+01,\n",
       "        1.100e+01, 1.200e+01, 7.000e+00, 8.000e+00, 8.000e+00, 8.000e+00,\n",
       "        1.100e+01, 1.100e+01, 1.100e+01, 9.000e+00, 5.000e+00, 1.100e+01,\n",
       "        1.100e+01, 1.100e+01, 9.000e+00, 7.000e+00, 7.000e+00, 6.000e+00,\n",
       "        2.000e+00, 5.000e+00, 5.000e+00, 6.000e+00, 3.000e+00, 4.000e+00,\n",
       "        3.000e+00, 3.000e+00, 5.000e+00, 9.000e+00, 4.000e+00, 5.000e+00,\n",
       "        0.000e+00, 3.000e+00, 4.000e+00, 0.000e+00, 3.000e+00, 7.000e+00,\n",
       "        1.000e+00, 2.000e+00, 4.000e+00, 5.000e+00, 3.000e+00, 3.000e+00,\n",
       "        2.000e+00, 2.000e+00, 2.000e+00, 1.000e+00, 1.000e+00, 2.000e+00,\n",
       "        1.000e+00, 2.000e+00, 2.000e+00, 1.000e+00, 4.000e+00, 3.000e+00,\n",
       "        0.000e+00, 1.000e+00, 1.000e+00, 1.000e+00, 4.000e+00, 1.000e+00,\n",
       "        0.000e+00, 1.000e+00, 0.000e+00, 0.000e+00, 0.000e+00, 1.000e+00,\n",
       "        4.000e+00, 1.000e+00, 2.000e+00, 1.000e+00, 0.000e+00, 1.000e+00,\n",
       "        2.000e+00, 2.000e+00, 0.000e+00, 0.000e+00, 1.000e+00, 0.000e+00,\n",
       "        1.000e+00, 1.000e+00, 1.000e+00, 2.000e+00, 0.000e+00, 1.000e+00,\n",
       "        1.000e+00, 0.000e+00, 1.000e+00, 0.000e+00, 0.000e+00, 1.000e+00,\n",
       "        0.000e+00, 0.000e+00, 0.000e+00, 0.000e+00, 0.000e+00, 0.000e+00,\n",
       "        1.000e+00, 0.000e+00, 1.000e+00, 2.000e+00, 1.000e+00, 0.000e+00,\n",
       "        1.000e+00, 1.000e+00, 0.000e+00, 0.000e+00, 0.000e+00, 0.000e+00,\n",
       "        0.000e+00, 0.000e+00, 0.000e+00, 1.000e+00, 0.000e+00, 0.000e+00,\n",
       "        0.000e+00, 0.000e+00, 2.000e+00, 0.000e+00, 0.000e+00, 0.000e+00,\n",
       "        0.000e+00, 0.000e+00, 0.000e+00, 0.000e+00, 0.000e+00, 0.000e+00,\n",
       "        0.000e+00, 0.000e+00, 0.000e+00, 0.000e+00, 0.000e+00, 0.000e+00,\n",
       "        0.000e+00, 0.000e+00, 1.000e+00, 0.000e+00, 0.000e+00, 0.000e+00,\n",
       "        0.000e+00, 0.000e+00, 0.000e+00, 1.000e+00, 0.000e+00, 0.000e+00,\n",
       "        0.000e+00, 0.000e+00, 0.000e+00, 0.000e+00, 0.000e+00, 0.000e+00,\n",
       "        0.000e+00, 0.000e+00, 0.000e+00, 0.000e+00, 0.000e+00, 0.000e+00,\n",
       "        0.000e+00, 0.000e+00, 0.000e+00, 0.000e+00, 1.000e+00, 0.000e+00,\n",
       "        0.000e+00, 0.000e+00, 0.000e+00, 0.000e+00, 0.000e+00, 0.000e+00,\n",
       "        0.000e+00, 0.000e+00, 0.000e+00, 0.000e+00, 0.000e+00, 0.000e+00,\n",
       "        0.000e+00, 0.000e+00, 0.000e+00, 0.000e+00, 0.000e+00, 0.000e+00,\n",
       "        0.000e+00, 0.000e+00, 0.000e+00, 0.000e+00, 0.000e+00, 0.000e+00,\n",
       "        0.000e+00, 0.000e+00, 0.000e+00, 1.000e+00]),\n",
       " array([-4.69703479, -4.68703357, -4.67703234, ...,  5.28419106,\n",
       "         5.29419228,  5.30419351]),\n",
       " <a list of 1000 Patch objects>)"
      ]
     },
     "execution_count": 48,
     "metadata": {},
     "output_type": "execute_result"
    },
    {
     "data": {
      "image/png": "[encoded data removed]",
      "text/plain": [
       "<Figure size 432x288 with 1 Axes>"
      ]
     },
     "metadata": {},
     "output_type": "display_data"
    }
   ],
   "source": [
    "plt.hist(data, bins = 1000)"
   ]
  },
  {
   "cell_type": "code",
   "execution_count": 49,
   "metadata": {},
   "outputs": [
    {
     "data": {
      "text/plain": [
       "[<matplotlib.lines.Line2D at 0x254faa982e8>]"
      ]
     },
     "execution_count": 49,
     "metadata": {},
     "output_type": "execute_result"
    },
    {
     "data": {
      "image/png": "[encoded data removed]",
      "text/plain": [
       "<Figure size 432x288 with 1 Axes>"
      ]
     },
     "metadata": {},
     "output_type": "display_data"
    }
   ],
   "source": [
    "''' \n",
    "Al ordenar los datos podemos confirmar que la mayoria de ellos se concentran\n",
    "entorno al -1.5 y 1.5 y, oor lo tanto, estamos frente una campana de Gauss\n",
    "'''\n",
    "\n",
    "plt.plot(x, sorted(data))"
   ]
  },
  {
   "cell_type": "code",
   "execution_count": 54,
   "metadata": {},
   "outputs": [
    {
     "data": {
      "text/plain": [
       "(array([2.000e+00, 0.000e+00, 1.000e+00, 2.000e+00, 3.000e+00, 4.000e+00,\n",
       "        3.000e+00, 3.000e+00, 4.000e+00, 9.000e+00, 1.000e+01, 1.700e+01,\n",
       "        2.200e+01, 2.500e+01, 3.300e+01, 4.800e+01, 5.000e+01, 8.600e+01,\n",
       "        1.020e+02, 1.270e+02, 1.570e+02, 1.670e+02, 2.200e+02, 2.560e+02,\n",
       "        2.730e+02, 3.870e+02, 4.500e+02, 5.890e+02, 6.460e+02, 7.650e+02,\n",
       "        8.300e+02, 1.033e+03, 1.132e+03, 1.307e+03, 1.438e+03, 1.643e+03,\n",
       "        1.759e+03, 2.027e+03, 2.137e+03, 2.386e+03, 2.470e+03, 2.736e+03,\n",
       "        2.827e+03, 2.917e+03, 3.055e+03, 3.175e+03, 3.389e+03, 3.295e+03,\n",
       "        3.404e+03, 3.482e+03, 3.451e+03, 3.453e+03, 3.293e+03, 3.202e+03,\n",
       "        3.134e+03, 3.107e+03, 2.896e+03, 2.784e+03, 2.588e+03, 2.420e+03,\n",
       "        2.285e+03, 2.037e+03, 1.862e+03, 1.666e+03, 1.505e+03, 1.388e+03,\n",
       "        1.212e+03, 1.042e+03, 8.920e+02, 8.110e+02, 7.010e+02, 5.850e+02,\n",
       "        5.150e+02, 4.100e+02, 3.610e+02, 2.940e+02, 2.330e+02, 2.410e+02,\n",
       "        1.680e+02, 1.300e+02, 8.800e+01, 7.800e+01, 5.600e+01, 5.300e+01,\n",
       "        3.600e+01, 2.500e+01, 2.400e+01, 1.500e+01, 1.100e+01, 1.300e+01,\n",
       "        1.000e+01, 6.000e+00, 5.000e+00, 2.000e+00, 4.000e+00, 2.000e+00,\n",
       "        0.000e+00, 1.000e+00, 0.000e+00, 2.000e+00]),\n",
       " array([-5.18352331, -4.96846756, -4.7534118 , -4.53835605, -4.3233003 ,\n",
       "        -4.10824454, -3.89318879, -3.67813304, -3.46307728, -3.24802153,\n",
       "        -3.03296577, -2.81791002, -2.60285427, -2.38779851, -2.17274276,\n",
       "        -1.95768701, -1.74263125, -1.5275755 , -1.31251974, -1.09746399,\n",
       "        -0.88240824, -0.66735248, -0.45229673, -0.23724098, -0.02218522,\n",
       "         0.19287053,  0.40792628,  0.62298204,  0.83803779,  1.05309355,\n",
       "         1.2681493 ,  1.48320505,  1.69826081,  1.91331656,  2.12837231,\n",
       "         2.34342807,  2.55848382,  2.77353958,  2.98859533,  3.20365108,\n",
       "         3.41870684,  3.63376259,  3.84881834,  4.0638741 ,  4.27892985,\n",
       "         4.49398561,  4.70904136,  4.92409711,  5.13915287,  5.35420862,\n",
       "         5.56926437,  5.78432013,  5.99937588,  6.21443164,  6.42948739,\n",
       "         6.64454314,  6.8595989 ,  7.07465465,  7.2897104 ,  7.50476616,\n",
       "         7.71982191,  7.93487767,  8.14993342,  8.36498917,  8.58004493,\n",
       "         8.79510068,  9.01015643,  9.22521219,  9.44026794,  9.65532369,\n",
       "         9.87037945, 10.0854352 , 10.30049096, 10.51554671, 10.73060246,\n",
       "        10.94565822, 11.16071397, 11.37576972, 11.59082548, 11.80588123,\n",
       "        12.02093699, 12.23599274, 12.45104849, 12.66610425, 12.88116   ,\n",
       "        13.09621575, 13.31127151, 13.52632726, 13.74138302, 13.95643877,\n",
       "        14.17149452, 14.38655028, 14.60160603, 14.81666178, 15.03171754,\n",
       "        15.24677329, 15.46182905, 15.6768848 , 15.89194055, 16.10699631,\n",
       "        16.32205206]),\n",
       " <a list of 100 Patch objects>)"
      ]
     },
     "execution_count": 54,
     "metadata": {},
     "output_type": "execute_result"
    },
    {
     "data": {
      "image/png": "[encoded data removed]",
      "text/plain": [
       "<Figure size 432x288 with 1 Axes>"
      ]
     },
     "metadata": {},
     "output_type": "display_data"
    }
   ],
   "source": [
    "# Media\n",
    "mu = 5.5\n",
    "\n",
    "# Desviacion estandard\n",
    "sd = 2.5\n",
    "\n",
    "# Distribuicon normal\n",
    "z = np.random.randn(100000)\n",
    "data = mu + sd * z\n",
    "'''\n",
    "La distribucion normal (z) es lo que se obtiene cuando a una distribucion \n",
    "cualquiera se le resta la media y se la divide por la desviacion tipica\n",
    "z = (x - mu) / sd -> N(0,1), X = mu + sd * z'''\n",
    "plt.hist(data, bins = 100)"
   ]
  },
  {
   "cell_type": "markdown",
   "metadata": {},
   "source": [
    "## La simulacion de Monte Carlo"
   ]
  },
  {
   "cell_type": "markdown",
   "metadata": {},
   "source": [
    "* Generamos 2 numeros aleatorios UNIFORMES, x e y, entre 0 y 1 en total 1000 veces\n",
    "* Calcularemos x \\* x + y * y\n",
    "    * Si el valor es inferior a 1 -> estamos dentro del circulo\n",
    "    * Si el valor es superior a 1 -> estamos fuera del circulo\n",
    "* Calculamos el numero total de veces que estan dentro del circulo y lo\n",
    "dividimos entre el numero total de intentos para obtener una aproximacion de la probabilidad de caer dentro del circulo\n",
    "* Usamos dicha probabilidad paras aproximiar el valor de pi.\n",
    "* Repetimos el experimento un numero suficiente de veces (por ejemplo 100), para obtener(100) diferentes aproximaciones de pi.\n",
    "* Calculamos el promedio de los 100 experimentos anteriores para dar un valor final de pi"
   ]
  },
  {
   "cell_type": "code",
   "execution_count": 86,
   "metadata": {},
   "outputs": [],
   "source": [
    "def piMontecarlo(n, nExp):\n",
    "    piAvg = 0\n",
    "    piValueList = []\n",
    "\n",
    "    for i in range(nExp):\n",
    "        value = 0\n",
    "        x = np.random.uniform(0,1,n).tolist()\n",
    "        y = np.random.uniform(0,1,n).tolist()\n",
    "        for j in range(n):\n",
    "            z = x[j] * x[j] + y[j] * y[j]\n",
    "            if z <= 1:\n",
    "                value += 1\n",
    "        floatValue = float(value)\n",
    "        piValue = floatValue * 4 / n\n",
    "        piValueList.append(piValue)\n",
    "        piAvg += piValue\n",
    "\n",
    "    pi = piAvg/nExp\n",
    "\n",
    "    print('El valor de pi es: ' + str(pi))\n",
    "\n",
    "    fig = plt.plot(piValueList)\n",
    "    return (pi, fig)"
   ]
  },
  {
   "cell_type": "code",
   "execution_count": 93,
   "metadata": {},
   "outputs": [
    {
     "name": "stdout",
     "output_type": "stream",
     "text": [
      "El valor de pi es: 3.1415600000000006\n"
     ]
    },
    {
     "data": {
      "text/plain": [
       "(3.1415600000000006, [<matplotlib.lines.Line2D at 0x254905a3588>])"
      ]
     },
     "execution_count": 93,
     "metadata": {},
     "output_type": "execute_result"
    },
    {
     "data": {
      "image/png": "[encoded data removed]",
      "text/plain": [
       "<Figure size 432x288 with 1 Axes>"
      ]
     },
     "metadata": {},
     "output_type": "display_data"
    }
   ],
   "source": [
    "piMontecarlo(1000,200)"
   ]
  },
  {
   "cell_type": "markdown",
   "metadata": {},
   "source": [
    "## Dummy Data Sets"
   ]
  },
  {
   "cell_type": "code",
   "execution_count": 99,
   "metadata": {},
   "outputs": [],
   "source": [
    "# Creamos un Dummy DataFrame con valores aleatorios\n",
    "\n",
    "n= 1000000\n",
    "data = pd.DataFrame(\n",
    "    {\n",
    "        'A' : np.random.randn(n), # Normal standard\n",
    "        'B' : 1.5 + 2.5 * np.random.randn(n), # Normal con media 1.5 y desv. tipica 2.5\n",
    "        'C' : np.random.uniform(5,32,n) # Uniforme\n",
    "    }\n",
    ")"
   ]
  },
  {
   "cell_type": "code",
   "execution_count": 104,
   "metadata": {
    "scrolled": true
   },
   "outputs": [
    {
     "data": {
      "text/plain": [
       "(array([1.0000e+00, 0.0000e+00, 1.0000e+00, 1.0000e+00, 2.0000e+00,\n",
       "        0.0000e+00, 1.0000e+00, 7.0000e+00, 9.0000e+00, 9.0000e+00,\n",
       "        1.7000e+01, 2.3000e+01, 3.6000e+01, 5.0000e+01, 7.8000e+01,\n",
       "        1.0700e+02, 1.5400e+02, 1.9500e+02, 2.6300e+02, 3.6600e+02,\n",
       "        5.1800e+02, 6.9400e+02, 9.1600e+02, 1.1380e+03, 1.4290e+03,\n",
       "        1.9020e+03, 2.4500e+03, 3.1140e+03, 3.7860e+03, 4.7140e+03,\n",
       "        5.7690e+03, 6.9190e+03, 8.4170e+03, 9.8980e+03, 1.1732e+04,\n",
       "        1.3383e+04, 1.5627e+04, 1.7722e+04, 2.0008e+04, 2.2330e+04,\n",
       "        2.4590e+04, 2.7344e+04, 2.9235e+04, 3.1338e+04, 3.3413e+04,\n",
       "        3.5100e+04, 3.6862e+04, 3.8117e+04, 3.9026e+04, 3.9528e+04,\n",
       "        3.9403e+04, 3.9162e+04, 3.8759e+04, 3.7473e+04, 3.6383e+04,\n",
       "        3.4718e+04, 3.2792e+04, 3.0837e+04, 2.8567e+04, 2.5948e+04,\n",
       "        2.3826e+04, 2.1373e+04, 1.9044e+04, 1.6662e+04, 1.4612e+04,\n",
       "        1.2742e+04, 1.0877e+04, 9.1960e+03, 7.7440e+03, 6.4150e+03,\n",
       "        5.2580e+03, 4.3200e+03, 3.6130e+03, 2.8010e+03, 2.1740e+03,\n",
       "        1.7850e+03, 1.3020e+03, 9.8800e+02, 7.3300e+02, 5.7900e+02,\n",
       "        4.4400e+02, 3.2700e+02, 2.3200e+02, 1.6100e+02, 1.3000e+02,\n",
       "        8.9000e+01, 4.9000e+01, 5.3000e+01, 4.5000e+01, 1.5000e+01,\n",
       "        1.0000e+01, 8.0000e+00, 4.0000e+00, 4.0000e+00, 3.0000e+00,\n",
       "        0.0000e+00, 0.0000e+00, 0.0000e+00, 0.0000e+00, 1.0000e+00]),\n",
       " array([-4.98595168, -4.88679479, -4.78763789, -4.68848099, -4.58932409,\n",
       "        -4.49016719, -4.3910103 , -4.2918534 , -4.1926965 , -4.0935396 ,\n",
       "        -3.9943827 , -3.89522581, -3.79606891, -3.69691201, -3.59775511,\n",
       "        -3.49859822, -3.39944132, -3.30028442, -3.20112752, -3.10197062,\n",
       "        -3.00281373, -2.90365683, -2.80449993, -2.70534303, -2.60618613,\n",
       "        -2.50702924, -2.40787234, -2.30871544, -2.20955854, -2.11040164,\n",
       "        -2.01124475, -1.91208785, -1.81293095, -1.71377405, -1.61461716,\n",
       "        -1.51546026, -1.41630336, -1.31714646, -1.21798956, -1.11883267,\n",
       "        -1.01967577, -0.92051887, -0.82136197, -0.72220507, -0.62304818,\n",
       "        -0.52389128, -0.42473438, -0.32557748, -0.22642058, -0.12726369,\n",
       "        -0.02810679,  0.07105011,  0.17020701,  0.2693639 ,  0.3685208 ,\n",
       "         0.4676777 ,  0.5668346 ,  0.6659915 ,  0.76514839,  0.86430529,\n",
       "         0.96346219,  1.06261909,  1.16177599,  1.26093288,  1.36008978,\n",
       "         1.45924668,  1.55840358,  1.65756048,  1.75671737,  1.85587427,\n",
       "         1.95503117,  2.05418807,  2.15334497,  2.25250186,  2.35165876,\n",
       "         2.45081566,  2.54997256,  2.64912945,  2.74828635,  2.84744325,\n",
       "         2.94660015,  3.04575705,  3.14491394,  3.24407084,  3.34322774,\n",
       "         3.44238464,  3.54154154,  3.64069843,  3.73985533,  3.83901223,\n",
       "         3.93816913,  4.03732603,  4.13648292,  4.23563982,  4.33479672,\n",
       "         4.43395362,  4.53311051,  4.63226741,  4.73142431,  4.83058121,\n",
       "         4.92973811]),\n",
       " <a list of 100 Patch objects>)"
      ]
     },
     "execution_count": 104,
     "metadata": {},
     "output_type": "execute_result"
    },
    {
     "data": {
      "image/png": "[encoded data removed]",
      "text/plain": [
       "<Figure size 432x288 with 1 Axes>"
      ]
     },
     "metadata": {},
     "output_type": "display_data"
    }
   ],
   "source": [
    "plt.hist(data['A'], bins = 100)"
   ]
  },
  {
   "cell_type": "code",
   "execution_count": 105,
   "metadata": {},
   "outputs": [
    {
     "data": {
      "text/plain": [
       "(array([1.0000e+00, 1.0000e+00, 0.0000e+00, 0.0000e+00, 1.0000e+00,\n",
       "        2.0000e+00, 3.0000e+00, 6.0000e+00, 5.0000e+00, 3.0000e+00,\n",
       "        1.1000e+01, 1.2000e+01, 1.4000e+01, 3.5000e+01, 4.7000e+01,\n",
       "        8.6000e+01, 9.2000e+01, 1.4500e+02, 2.0800e+02, 2.8000e+02,\n",
       "        3.1700e+02, 4.5200e+02, 6.1400e+02, 8.1000e+02, 1.0950e+03,\n",
       "        1.3120e+03, 1.6230e+03, 2.1060e+03, 2.6660e+03, 3.3080e+03,\n",
       "        4.0960e+03, 4.9440e+03, 5.7600e+03, 7.1690e+03, 8.4750e+03,\n",
       "        9.8900e+03, 1.1469e+04, 1.3266e+04, 1.5107e+04, 1.7304e+04,\n",
       "        1.9204e+04, 2.1523e+04, 2.4009e+04, 2.6329e+04, 2.7938e+04,\n",
       "        3.0388e+04, 3.1908e+04, 3.3803e+04, 3.5358e+04, 3.6589e+04,\n",
       "        3.7103e+04, 3.7676e+04, 3.8200e+04, 3.8386e+04, 3.7402e+04,\n",
       "        3.6655e+04, 3.5995e+04, 3.4094e+04, 3.2601e+04, 3.0864e+04,\n",
       "        2.8762e+04, 2.6861e+04, 2.4355e+04, 2.2249e+04, 1.9977e+04,\n",
       "        1.8014e+04, 1.5744e+04, 1.3916e+04, 1.2193e+04, 1.0483e+04,\n",
       "        8.8150e+03, 7.5460e+03, 6.3430e+03, 5.2420e+03, 4.3260e+03,\n",
       "        3.5820e+03, 2.8350e+03, 2.3080e+03, 1.8020e+03, 1.4180e+03,\n",
       "        1.0900e+03, 8.8800e+02, 6.6900e+02, 4.9600e+02, 3.7100e+02,\n",
       "        2.6000e+02, 2.0300e+02, 1.2900e+02, 9.1000e+01, 9.5000e+01,\n",
       "        5.2000e+01, 3.1000e+01, 2.6000e+01, 2.4000e+01, 1.6000e+01,\n",
       "        1.2000e+01, 5.0000e+00, 4.0000e+00, 4.0000e+00, 3.0000e+00]),\n",
       " array([-11.07988503, -10.84093345, -10.60198187, -10.36303028,\n",
       "        -10.1240787 ,  -9.88512712,  -9.64617553,  -9.40722395,\n",
       "         -9.16827237,  -8.92932078,  -8.6903692 ,  -8.45141762,\n",
       "         -8.21246604,  -7.97351445,  -7.73456287,  -7.49561129,\n",
       "         -7.2566597 ,  -7.01770812,  -6.77875654,  -6.53980495,\n",
       "         -6.30085337,  -6.06190179,  -5.8229502 ,  -5.58399862,\n",
       "         -5.34504704,  -5.10609546,  -4.86714387,  -4.62819229,\n",
       "         -4.38924071,  -4.15028912,  -3.91133754,  -3.67238596,\n",
       "         -3.43343437,  -3.19448279,  -2.95553121,  -2.71657963,\n",
       "         -2.47762804,  -2.23867646,  -1.99972488,  -1.76077329,\n",
       "         -1.52182171,  -1.28287013,  -1.04391854,  -0.80496696,\n",
       "         -0.56601538,  -0.32706379,  -0.08811221,   0.15083937,\n",
       "          0.38979095,   0.62874254,   0.86769412,   1.1066457 ,\n",
       "          1.34559729,   1.58454887,   1.82350045,   2.06245204,\n",
       "          2.30140362,   2.5403552 ,   2.77930678,   3.01825837,\n",
       "          3.25720995,   3.49616153,   3.73511312,   3.9740647 ,\n",
       "          4.21301628,   4.45196787,   4.69091945,   4.92987103,\n",
       "          5.16882261,   5.4077742 ,   5.64672578,   5.88567736,\n",
       "          6.12462895,   6.36358053,   6.60253211,   6.8414837 ,\n",
       "          7.08043528,   7.31938686,   7.55833845,   7.79729003,\n",
       "          8.03624161,   8.27519319,   8.51414478,   8.75309636,\n",
       "          8.99204794,   9.23099953,   9.46995111,   9.70890269,\n",
       "          9.94785428,  10.18680586,  10.42575744,  10.66470902,\n",
       "         10.90366061,  11.14261219,  11.38156377,  11.62051536,\n",
       "         11.85946694,  12.09841852,  12.33737011,  12.57632169,\n",
       "         12.81527327]),\n",
       " <a list of 100 Patch objects>)"
      ]
     },
     "execution_count": 105,
     "metadata": {},
     "output_type": "execute_result"
    },
    {
     "data": {
      "image/png": "[encoded data removed]",
      "text/plain": [
       "<Figure size 432x288 with 1 Axes>"
      ]
     },
     "metadata": {},
     "output_type": "display_data"
    }
   ],
   "source": [
    "plt.hist(data['B'], bins = 100)"
   ]
  },
  {
   "cell_type": "code",
   "execution_count": 107,
   "metadata": {},
   "outputs": [
    {
     "data": {
      "text/plain": [
       "(array([10061.,  9998.,  9969.,  9950., 10011.,  9912., 10032., 10101.,\n",
       "        10099.,  9887.,  9752.,  9977.,  9974.,  9901., 10136.,  9923.,\n",
       "         9941., 10007., 10020.,  9986., 10013., 10029., 10055., 10043.,\n",
       "        10066.,  9837.,  9987.,  9977.,  9949., 10059.,  9929., 10001.,\n",
       "        10128., 10034.,  9942.,  9878., 10110., 10079., 10114., 10137.,\n",
       "         9971., 10035.,  9961.,  9952., 10069., 10208., 10120., 10170.,\n",
       "         9858., 10095., 10189.,  9905., 10124.,  9893.,  9962., 10000.,\n",
       "        10023.,  9952., 10119., 10045.,  9902., 10205., 10006., 10021.,\n",
       "        10125., 10170., 10027., 10075.,  9838.,  9807.,  9907., 10113.,\n",
       "         9774., 10092.,  9960.,  9966.,  9882., 10017.,  9903., 10110.,\n",
       "         9931., 10067.,  9951., 10050.,  9843.,  9838., 10068.,  9922.,\n",
       "         9976., 10008.,  9988., 10100.,  9900.,  9823.,  9936., 10062.,\n",
       "         9990.,  9973., 10009., 10010.]),\n",
       " array([ 5.00002316,  5.27002245,  5.54002174,  5.81002103,  6.08002032,\n",
       "         6.35001961,  6.6200189 ,  6.89001819,  7.16001748,  7.43001677,\n",
       "         7.70001606,  7.97001535,  8.24001464,  8.51001394,  8.78001323,\n",
       "         9.05001252,  9.32001181,  9.5900111 ,  9.86001039, 10.13000968,\n",
       "        10.40000897, 10.67000826, 10.94000755, 11.21000684, 11.48000613,\n",
       "        11.75000542, 12.02000471, 12.290004  , 12.56000329, 12.83000258,\n",
       "        13.10000187, 13.37000116, 13.64000045, 13.90999974, 14.17999904,\n",
       "        14.44999833, 14.71999762, 14.98999691, 15.2599962 , 15.52999549,\n",
       "        15.79999478, 16.06999407, 16.33999336, 16.60999265, 16.87999194,\n",
       "        17.14999123, 17.41999052, 17.68998981, 17.9599891 , 18.22998839,\n",
       "        18.49998768, 18.76998697, 19.03998626, 19.30998555, 19.57998484,\n",
       "        19.84998414, 20.11998343, 20.38998272, 20.65998201, 20.9299813 ,\n",
       "        21.19998059, 21.46997988, 21.73997917, 22.00997846, 22.27997775,\n",
       "        22.54997704, 22.81997633, 23.08997562, 23.35997491, 23.6299742 ,\n",
       "        23.89997349, 24.16997278, 24.43997207, 24.70997136, 24.97997065,\n",
       "        25.24996994, 25.51996924, 25.78996853, 26.05996782, 26.32996711,\n",
       "        26.5999664 , 26.86996569, 27.13996498, 27.40996427, 27.67996356,\n",
       "        27.94996285, 28.21996214, 28.48996143, 28.75996072, 29.02996001,\n",
       "        29.2999593 , 29.56995859, 29.83995788, 30.10995717, 30.37995646,\n",
       "        30.64995575, 30.91995504, 31.18995434, 31.45995363, 31.72995292,\n",
       "        31.99995221]),\n",
       " <a list of 100 Patch objects>)"
      ]
     },
     "execution_count": 107,
     "metadata": {},
     "output_type": "execute_result"
    },
    {
     "data": {
      "image/png": "[encoded data removed]",
      "text/plain": [
       "<Figure size 432x288 with 1 Axes>"
      ]
     },
     "metadata": {},
     "output_type": "display_data"
    }
   ],
   "source": [
    "plt.hist(data['C'], bins = 100)"
   ]
  },
  {
   "cell_type": "code",
   "execution_count": 109,
   "metadata": {},
   "outputs": [
    {
     "data": {
      "text/plain": [
       "21"
      ]
     },
     "execution_count": 109,
     "metadata": {},
     "output_type": "execute_result"
    }
   ],
   "source": [
    "data = pd.read_csv('../../datasets/customer-churn-model/Customer Churn Model.txt')\n",
    "colNames = data.columns.values.tolist()\n",
    "a = len(colNames)\n",
    "a"
   ]
  },
  {
   "cell_type": "code",
   "execution_count": 111,
   "metadata": {},
   "outputs": [
    {
     "data": {
      "text/html": [
       "<div>\n",
       "<style scoped>\n",
       "    .dataframe tbody tr th:only-of-type {\n",
       "        vertical-align: middle;\n",
       "    }\n",
       "\n",
       "    .dataframe tbody tr th {\n",
       "        vertical-align: top;\n",
       "    }\n",
       "\n",
       "    .dataframe thead th {\n",
       "        text-align: right;\n",
       "    }\n",
       "</style>\n",
       "<table border=\"1\" class=\"dataframe\">\n",
       "  <thead>\n",
       "    <tr style=\"text-align: right;\">\n",
       "      <th></th>\n",
       "      <th>Column Name</th>\n",
       "      <th>A</th>\n",
       "      <th>B</th>\n",
       "    </tr>\n",
       "  </thead>\n",
       "  <tbody>\n",
       "    <tr>\n",
       "      <th>42</th>\n",
       "      <td>State</td>\n",
       "      <td>-0.389879</td>\n",
       "      <td>0.737967</td>\n",
       "    </tr>\n",
       "    <tr>\n",
       "      <th>43</th>\n",
       "      <td>Account Length</td>\n",
       "      <td>-0.014790</td>\n",
       "      <td>0.706117</td>\n",
       "    </tr>\n",
       "    <tr>\n",
       "      <th>44</th>\n",
       "      <td>Area Code</td>\n",
       "      <td>-0.300775</td>\n",
       "      <td>0.502137</td>\n",
       "    </tr>\n",
       "    <tr>\n",
       "      <th>45</th>\n",
       "      <td>Phone</td>\n",
       "      <td>-1.084987</td>\n",
       "      <td>0.957891</td>\n",
       "    </tr>\n",
       "    <tr>\n",
       "      <th>46</th>\n",
       "      <td>Int'l Plan</td>\n",
       "      <td>-0.047165</td>\n",
       "      <td>0.295779</td>\n",
       "    </tr>\n",
       "    <tr>\n",
       "      <th>47</th>\n",
       "      <td>VMail Plan</td>\n",
       "      <td>-1.813539</td>\n",
       "      <td>0.944918</td>\n",
       "    </tr>\n",
       "    <tr>\n",
       "      <th>48</th>\n",
       "      <td>VMail Message</td>\n",
       "      <td>0.660641</td>\n",
       "      <td>0.146186</td>\n",
       "    </tr>\n",
       "    <tr>\n",
       "      <th>49</th>\n",
       "      <td>Day Mins</td>\n",
       "      <td>0.917838</td>\n",
       "      <td>0.538122</td>\n",
       "    </tr>\n",
       "    <tr>\n",
       "      <th>50</th>\n",
       "      <td>Day Calls</td>\n",
       "      <td>0.224229</td>\n",
       "      <td>0.061592</td>\n",
       "    </tr>\n",
       "    <tr>\n",
       "      <th>51</th>\n",
       "      <td>Day Charge</td>\n",
       "      <td>0.341603</td>\n",
       "      <td>0.077316</td>\n",
       "    </tr>\n",
       "    <tr>\n",
       "      <th>52</th>\n",
       "      <td>Eve Mins</td>\n",
       "      <td>-0.449733</td>\n",
       "      <td>0.719113</td>\n",
       "    </tr>\n",
       "    <tr>\n",
       "      <th>53</th>\n",
       "      <td>Eve Calls</td>\n",
       "      <td>0.483420</td>\n",
       "      <td>0.940615</td>\n",
       "    </tr>\n",
       "    <tr>\n",
       "      <th>54</th>\n",
       "      <td>Eve Charge</td>\n",
       "      <td>0.006945</td>\n",
       "      <td>0.724256</td>\n",
       "    </tr>\n",
       "    <tr>\n",
       "      <th>55</th>\n",
       "      <td>Night Mins</td>\n",
       "      <td>0.344966</td>\n",
       "      <td>0.976808</td>\n",
       "    </tr>\n",
       "    <tr>\n",
       "      <th>56</th>\n",
       "      <td>Night Calls</td>\n",
       "      <td>1.847848</td>\n",
       "      <td>0.151121</td>\n",
       "    </tr>\n",
       "    <tr>\n",
       "      <th>57</th>\n",
       "      <td>Night Charge</td>\n",
       "      <td>-0.341981</td>\n",
       "      <td>0.365885</td>\n",
       "    </tr>\n",
       "    <tr>\n",
       "      <th>58</th>\n",
       "      <td>Intl Mins</td>\n",
       "      <td>-0.187746</td>\n",
       "      <td>0.218864</td>\n",
       "    </tr>\n",
       "    <tr>\n",
       "      <th>59</th>\n",
       "      <td>Intl Calls</td>\n",
       "      <td>0.571535</td>\n",
       "      <td>0.882970</td>\n",
       "    </tr>\n",
       "    <tr>\n",
       "      <th>60</th>\n",
       "      <td>Intl Charge</td>\n",
       "      <td>-0.987776</td>\n",
       "      <td>0.005255</td>\n",
       "    </tr>\n",
       "    <tr>\n",
       "      <th>61</th>\n",
       "      <td>CustServ Calls</td>\n",
       "      <td>0.330385</td>\n",
       "      <td>0.803245</td>\n",
       "    </tr>\n",
       "    <tr>\n",
       "      <th>62</th>\n",
       "      <td>Churn?</td>\n",
       "      <td>-0.774734</td>\n",
       "      <td>0.996484</td>\n",
       "    </tr>\n",
       "  </tbody>\n",
       "</table>\n",
       "</div>"
      ],
      "text/plain": [
       "       Column Name         A         B\n",
       "42           State -0.389879  0.737967\n",
       "43  Account Length -0.014790  0.706117\n",
       "44       Area Code -0.300775  0.502137\n",
       "45           Phone -1.084987  0.957891\n",
       "46      Int'l Plan -0.047165  0.295779\n",
       "47      VMail Plan -1.813539  0.944918\n",
       "48   VMail Message  0.660641  0.146186\n",
       "49        Day Mins  0.917838  0.538122\n",
       "50       Day Calls  0.224229  0.061592\n",
       "51      Day Charge  0.341603  0.077316\n",
       "52        Eve Mins -0.449733  0.719113\n",
       "53       Eve Calls  0.483420  0.940615\n",
       "54      Eve Charge  0.006945  0.724256\n",
       "55      Night Mins  0.344966  0.976808\n",
       "56     Night Calls  1.847848  0.151121\n",
       "57    Night Charge -0.341981  0.365885\n",
       "58       Intl Mins -0.187746  0.218864\n",
       "59      Intl Calls  0.571535  0.882970\n",
       "60     Intl Charge -0.987776  0.005255\n",
       "61  CustServ Calls  0.330385  0.803245\n",
       "62          Churn? -0.774734  0.996484"
      ]
     },
     "execution_count": 111,
     "metadata": {},
     "output_type": "execute_result"
    }
   ],
   "source": [
    "# Creamos un Dummy DataFrame con valores aleatorios unido a datos de un archivo ya existente\n",
    "\n",
    "newData = pd.DataFrame(\n",
    "    {\n",
    "        'Column Name' : colNames,\n",
    "        'A' : np.random.randn(a),\n",
    "        'B' : np.random.uniform(0,1,a)\n",
    "    }, index = range(42, 42 + a)) # Con esto cambiamos en numero de indice\n",
    "newData"
   ]
  }
 ],
 "metadata": {
  "kernelspec": {
   "display_name": "Python 3",
   "language": "python",
   "name": "python3"
  },
  "language_info": {
   "codemirror_mode": {
    "name": "ipython",
    "version": 3
   },
   "file_extension": ".py",
   "mimetype": "text/x-python",
   "name": "python",
   "nbconvert_exporter": "python",
   "pygments_lexer": "ipython3",
   "version": "3.6.5"
  }
 },
 "nbformat": 4,
 "nbformat_minor": 2
}
